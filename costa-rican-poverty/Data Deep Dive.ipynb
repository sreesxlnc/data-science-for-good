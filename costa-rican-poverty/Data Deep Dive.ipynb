{
 "cells": [
  {
   "cell_type": "markdown",
   "metadata": {},
   "source": [
    "# Deep Dive Into Data\n",
    "\n",
    "In this notebook, we go through each column (where applicable) to determine what we can from the information. The end objective is a feature engineering procedure to handle all of the information."
   ]
  },
  {
   "cell_type": "code",
   "execution_count": 1,
   "metadata": {},
   "outputs": [],
   "source": [
    "import pandas as pd \n",
    "import numpy as np\n",
    "\n",
    "from scipy.stats import spearmanr\n",
    "import matplotlib.pyplot as plt\n",
    "%matplotlib inline"
   ]
  },
  {
   "cell_type": "code",
   "execution_count": 2,
   "metadata": {},
   "outputs": [
    {
     "data": {
      "text/html": [
       "<div>\n",
       "<style scoped>\n",
       "    .dataframe tbody tr th:only-of-type {\n",
       "        vertical-align: middle;\n",
       "    }\n",
       "\n",
       "    .dataframe tbody tr th {\n",
       "        vertical-align: top;\n",
       "    }\n",
       "\n",
       "    .dataframe thead th {\n",
       "        text-align: right;\n",
       "    }\n",
       "</style>\n",
       "<table border=\"1\" class=\"dataframe\">\n",
       "  <thead>\n",
       "    <tr style=\"text-align: right;\">\n",
       "      <th></th>\n",
       "      <th>Id</th>\n",
       "      <th>v2a1</th>\n",
       "      <th>hacdor</th>\n",
       "      <th>rooms</th>\n",
       "      <th>hacapo</th>\n",
       "      <th>v14a</th>\n",
       "      <th>refrig</th>\n",
       "      <th>v18q</th>\n",
       "      <th>v18q1</th>\n",
       "      <th>r4h1</th>\n",
       "      <th>...</th>\n",
       "      <th>SQBescolari</th>\n",
       "      <th>SQBage</th>\n",
       "      <th>SQBhogar_total</th>\n",
       "      <th>SQBedjefe</th>\n",
       "      <th>SQBhogar_nin</th>\n",
       "      <th>SQBovercrowding</th>\n",
       "      <th>SQBdependency</th>\n",
       "      <th>SQBmeaned</th>\n",
       "      <th>agesq</th>\n",
       "      <th>Target</th>\n",
       "    </tr>\n",
       "  </thead>\n",
       "  <tbody>\n",
       "    <tr>\n",
       "      <th>0</th>\n",
       "      <td>ID_279628684</td>\n",
       "      <td>190000.0</td>\n",
       "      <td>0</td>\n",
       "      <td>3</td>\n",
       "      <td>0</td>\n",
       "      <td>1</td>\n",
       "      <td>1</td>\n",
       "      <td>0</td>\n",
       "      <td>NaN</td>\n",
       "      <td>0</td>\n",
       "      <td>...</td>\n",
       "      <td>100</td>\n",
       "      <td>1849</td>\n",
       "      <td>1</td>\n",
       "      <td>100</td>\n",
       "      <td>0</td>\n",
       "      <td>1.000000</td>\n",
       "      <td>0.0</td>\n",
       "      <td>100.0</td>\n",
       "      <td>1849</td>\n",
       "      <td>4</td>\n",
       "    </tr>\n",
       "    <tr>\n",
       "      <th>1</th>\n",
       "      <td>ID_f29eb3ddd</td>\n",
       "      <td>135000.0</td>\n",
       "      <td>0</td>\n",
       "      <td>4</td>\n",
       "      <td>0</td>\n",
       "      <td>1</td>\n",
       "      <td>1</td>\n",
       "      <td>1</td>\n",
       "      <td>1.0</td>\n",
       "      <td>0</td>\n",
       "      <td>...</td>\n",
       "      <td>144</td>\n",
       "      <td>4489</td>\n",
       "      <td>1</td>\n",
       "      <td>144</td>\n",
       "      <td>0</td>\n",
       "      <td>1.000000</td>\n",
       "      <td>64.0</td>\n",
       "      <td>144.0</td>\n",
       "      <td>4489</td>\n",
       "      <td>4</td>\n",
       "    </tr>\n",
       "    <tr>\n",
       "      <th>2</th>\n",
       "      <td>ID_68de51c94</td>\n",
       "      <td>NaN</td>\n",
       "      <td>0</td>\n",
       "      <td>8</td>\n",
       "      <td>0</td>\n",
       "      <td>1</td>\n",
       "      <td>1</td>\n",
       "      <td>0</td>\n",
       "      <td>NaN</td>\n",
       "      <td>0</td>\n",
       "      <td>...</td>\n",
       "      <td>121</td>\n",
       "      <td>8464</td>\n",
       "      <td>1</td>\n",
       "      <td>0</td>\n",
       "      <td>0</td>\n",
       "      <td>0.250000</td>\n",
       "      <td>64.0</td>\n",
       "      <td>121.0</td>\n",
       "      <td>8464</td>\n",
       "      <td>4</td>\n",
       "    </tr>\n",
       "    <tr>\n",
       "      <th>3</th>\n",
       "      <td>ID_d671db89c</td>\n",
       "      <td>180000.0</td>\n",
       "      <td>0</td>\n",
       "      <td>5</td>\n",
       "      <td>0</td>\n",
       "      <td>1</td>\n",
       "      <td>1</td>\n",
       "      <td>1</td>\n",
       "      <td>1.0</td>\n",
       "      <td>0</td>\n",
       "      <td>...</td>\n",
       "      <td>81</td>\n",
       "      <td>289</td>\n",
       "      <td>16</td>\n",
       "      <td>121</td>\n",
       "      <td>4</td>\n",
       "      <td>1.777778</td>\n",
       "      <td>1.0</td>\n",
       "      <td>121.0</td>\n",
       "      <td>289</td>\n",
       "      <td>4</td>\n",
       "    </tr>\n",
       "    <tr>\n",
       "      <th>4</th>\n",
       "      <td>ID_d56d6f5f5</td>\n",
       "      <td>180000.0</td>\n",
       "      <td>0</td>\n",
       "      <td>5</td>\n",
       "      <td>0</td>\n",
       "      <td>1</td>\n",
       "      <td>1</td>\n",
       "      <td>1</td>\n",
       "      <td>1.0</td>\n",
       "      <td>0</td>\n",
       "      <td>...</td>\n",
       "      <td>121</td>\n",
       "      <td>1369</td>\n",
       "      <td>16</td>\n",
       "      <td>121</td>\n",
       "      <td>4</td>\n",
       "      <td>1.777778</td>\n",
       "      <td>1.0</td>\n",
       "      <td>121.0</td>\n",
       "      <td>1369</td>\n",
       "      <td>4</td>\n",
       "    </tr>\n",
       "  </tbody>\n",
       "</table>\n",
       "<p>5 rows × 143 columns</p>\n",
       "</div>"
      ],
      "text/plain": [
       "             Id      v2a1  hacdor  rooms  hacapo  v14a  refrig  v18q  v18q1  \\\n",
       "0  ID_279628684  190000.0       0      3       0     1       1     0    NaN   \n",
       "1  ID_f29eb3ddd  135000.0       0      4       0     1       1     1    1.0   \n",
       "2  ID_68de51c94       NaN       0      8       0     1       1     0    NaN   \n",
       "3  ID_d671db89c  180000.0       0      5       0     1       1     1    1.0   \n",
       "4  ID_d56d6f5f5  180000.0       0      5       0     1       1     1    1.0   \n",
       "\n",
       "   r4h1   ...    SQBescolari  SQBage  SQBhogar_total  SQBedjefe  SQBhogar_nin  \\\n",
       "0     0   ...            100    1849               1        100             0   \n",
       "1     0   ...            144    4489               1        144             0   \n",
       "2     0   ...            121    8464               1          0             0   \n",
       "3     0   ...             81     289              16        121             4   \n",
       "4     0   ...            121    1369              16        121             4   \n",
       "\n",
       "   SQBovercrowding  SQBdependency  SQBmeaned  agesq  Target  \n",
       "0         1.000000            0.0      100.0   1849       4  \n",
       "1         1.000000           64.0      144.0   4489       4  \n",
       "2         0.250000           64.0      121.0   8464       4  \n",
       "3         1.777778            1.0      121.0    289       4  \n",
       "4         1.777778            1.0      121.0   1369       4  \n",
       "\n",
       "[5 rows x 143 columns]"
      ]
     },
     "execution_count": 2,
     "metadata": {},
     "output_type": "execute_result"
    }
   ],
   "source": [
    "data = pd.read_csv('data/train.csv')\n",
    "data.head()"
   ]
  },
  {
   "cell_type": "code",
   "execution_count": 3,
   "metadata": {},
   "outputs": [
    {
     "data": {
      "text/html": [
       "<div>\n",
       "<style scoped>\n",
       "    .dataframe tbody tr th:only-of-type {\n",
       "        vertical-align: middle;\n",
       "    }\n",
       "\n",
       "    .dataframe tbody tr th {\n",
       "        vertical-align: top;\n",
       "    }\n",
       "\n",
       "    .dataframe thead th {\n",
       "        text-align: right;\n",
       "    }\n",
       "</style>\n",
       "<table border=\"1\" class=\"dataframe\">\n",
       "  <thead>\n",
       "    <tr style=\"text-align: right;\">\n",
       "      <th></th>\n",
       "      <th>dependency</th>\n",
       "      <th>edjefa</th>\n",
       "      <th>edjefe</th>\n",
       "    </tr>\n",
       "  </thead>\n",
       "  <tbody>\n",
       "    <tr>\n",
       "      <th>count</th>\n",
       "      <td>9557.000000</td>\n",
       "      <td>9557.000000</td>\n",
       "      <td>9557.000000</td>\n",
       "    </tr>\n",
       "    <tr>\n",
       "      <th>mean</th>\n",
       "      <td>1.149550</td>\n",
       "      <td>2.896830</td>\n",
       "      <td>5.096788</td>\n",
       "    </tr>\n",
       "    <tr>\n",
       "      <th>std</th>\n",
       "      <td>1.605993</td>\n",
       "      <td>4.612056</td>\n",
       "      <td>5.246513</td>\n",
       "    </tr>\n",
       "    <tr>\n",
       "      <th>min</th>\n",
       "      <td>0.000000</td>\n",
       "      <td>0.000000</td>\n",
       "      <td>0.000000</td>\n",
       "    </tr>\n",
       "    <tr>\n",
       "      <th>25%</th>\n",
       "      <td>0.333333</td>\n",
       "      <td>0.000000</td>\n",
       "      <td>0.000000</td>\n",
       "    </tr>\n",
       "    <tr>\n",
       "      <th>50%</th>\n",
       "      <td>0.666667</td>\n",
       "      <td>0.000000</td>\n",
       "      <td>6.000000</td>\n",
       "    </tr>\n",
       "    <tr>\n",
       "      <th>75%</th>\n",
       "      <td>1.333333</td>\n",
       "      <td>6.000000</td>\n",
       "      <td>9.000000</td>\n",
       "    </tr>\n",
       "    <tr>\n",
       "      <th>max</th>\n",
       "      <td>8.000000</td>\n",
       "      <td>21.000000</td>\n",
       "      <td>21.000000</td>\n",
       "    </tr>\n",
       "  </tbody>\n",
       "</table>\n",
       "</div>"
      ],
      "text/plain": [
       "        dependency       edjefa       edjefe\n",
       "count  9557.000000  9557.000000  9557.000000\n",
       "mean      1.149550     2.896830     5.096788\n",
       "std       1.605993     4.612056     5.246513\n",
       "min       0.000000     0.000000     0.000000\n",
       "25%       0.333333     0.000000     0.000000\n",
       "50%       0.666667     0.000000     6.000000\n",
       "75%       1.333333     6.000000     9.000000\n",
       "max       8.000000    21.000000    21.000000"
      ]
     },
     "execution_count": 3,
     "metadata": {},
     "output_type": "execute_result"
    }
   ],
   "source": [
    "mapping = {\"yes\": 1, \"no\": 0}\n",
    "\n",
    "\n",
    "    # Fill in the values with the correct mapping\n",
    "data['dependency'] = data['dependency'].replace(mapping).astype(np.float64)\n",
    "data['edjefa'] = data['edjefa'].replace(mapping).astype(np.float64)\n",
    "data['edjefe'] = data['edjefe'].replace(mapping).astype(np.float64)\n",
    "\n",
    "data[['dependency', 'edjefa', 'edjefe']].describe()"
   ]
  },
  {
   "cell_type": "code",
   "execution_count": 30,
   "metadata": {},
   "outputs": [],
   "source": [
    "# Create correlation matrix\n",
    "corr_matrix = data.corr()\n",
    "\n",
    "# Select upper triangle of correlation matrix\n",
    "upper = corr_matrix.where(np.triu(np.ones(corr_matrix.shape), k=1).astype(np.bool))\n",
    "\n",
    "# Find index of feature columns with correlation greater than 0.95\n",
    "to_drop = [column for column in upper.columns if any(abs(upper[column]) > 0.95)]\n"
   ]
  },
  {
   "cell_type": "code",
   "execution_count": 31,
   "metadata": {},
   "outputs": [],
   "source": [
    "pd.options.display.max_rows = 150"
   ]
  },
  {
   "cell_type": "code",
   "execution_count": 32,
   "metadata": {},
   "outputs": [
    {
     "data": {
      "text/plain": [
       "v2a1              -0.121159\n",
       "hacdor            -0.016256\n",
       "rooms             -0.042660\n",
       "hacapo             0.002100\n",
       "v14a               0.020980\n",
       "refrig            -0.011786\n",
       "v18q              -0.071448\n",
       "v18q1             -0.089603\n",
       "r4h1               0.017304\n",
       "r4h2               0.008631\n",
       "r4h3               0.017434\n",
       "r4m1               0.002534\n",
       "r4m2              -0.015276\n",
       "r4m3              -0.010362\n",
       "r4t1               0.012920\n",
       "r4t2              -0.003682\n",
       "r4t3               0.004646\n",
       "tamhog             0.005266\n",
       "tamviv            -0.003584\n",
       "escolari          -0.021639\n",
       "rez_esc           -0.023067\n",
       "hhsize             0.005266\n",
       "paredblolad       -0.019048\n",
       "paredzocalo        0.046894\n",
       "paredpreb         -0.002665\n",
       "pareddes          -0.014769\n",
       "paredmad           0.003707\n",
       "paredzinc         -0.017167\n",
       "paredfibras        0.012626\n",
       "paredother        -0.013521\n",
       "pisomoscer        -0.054673\n",
       "pisocemento        0.096099\n",
       "pisoother         -0.010838\n",
       "pisonatur         -0.011425\n",
       "pisonotiene       -0.019398\n",
       "pisomadera        -0.046762\n",
       "techozinc          0.046351\n",
       "techoentrepiso    -0.029659\n",
       "techocane         -0.019809\n",
       "techootro         -0.016566\n",
       "cielorazo         -0.090830\n",
       "abastaguadentro    0.051224\n",
       "abastaguafuera    -0.054365\n",
       "abastaguano        0.001302\n",
       "public            -0.979824\n",
       "planpri           -0.006255\n",
       "noelec            -0.016566\n",
       "coopele            1.000000\n",
       "sanitario1        -0.016640\n",
       "sanitario2        -0.131354\n",
       "sanitario3         0.126951\n",
       "sanitario5         0.015470\n",
       "sanitario6        -0.017713\n",
       "energcocinar1      0.000042\n",
       "energcocinar2     -0.074335\n",
       "energcocinar3      0.050541\n",
       "energcocinar4      0.054881\n",
       "elimbasu1         -0.134451\n",
       "elimbasu2          0.051168\n",
       "elimbasu3          0.121577\n",
       "elimbasu4         -0.004805\n",
       "elimbasu5               NaN\n",
       "elimbasu6          0.025136\n",
       "epared1           -0.021417\n",
       "epared2            0.062709\n",
       "epared3           -0.046325\n",
       "etecho1           -0.023878\n",
       "etecho2            0.052957\n",
       "etecho3           -0.032445\n",
       "eviv1              0.006590\n",
       "eviv2              0.047005\n",
       "eviv3             -0.046878\n",
       "dis               -0.008509\n",
       "male               0.009381\n",
       "female            -0.009381\n",
       "estadocivil1       0.004898\n",
       "estadocivil2       0.029880\n",
       "estadocivil3      -0.000169\n",
       "estadocivil4      -0.026165\n",
       "estadocivil5      -0.010286\n",
       "estadocivil6      -0.018850\n",
       "estadocivil7      -0.002036\n",
       "parentesco1       -0.004633\n",
       "parentesco2        0.018139\n",
       "parentesco3        0.007313\n",
       "parentesco4        0.003489\n",
       "parentesco5       -0.010584\n",
       "parentesco6       -0.004819\n",
       "parentesco7        0.004554\n",
       "parentesco8       -0.010535\n",
       "parentesco9       -0.008945\n",
       "parentesco10      -0.013850\n",
       "parentesco11      -0.019105\n",
       "parentesco12      -0.029449\n",
       "hogar_nin         -0.003807\n",
       "hogar_adul         0.012465\n",
       "hogar_mayor       -0.013870\n",
       "hogar_total        0.005266\n",
       "dependency        -0.030341\n",
       "edjefe            -0.010516\n",
       "edjefa            -0.040459\n",
       "meaneduc          -0.034431\n",
       "instlevel1         0.007215\n",
       "instlevel2         0.010973\n",
       "instlevel3         0.009897\n",
       "instlevel4        -0.020889\n",
       "instlevel5        -0.008793\n",
       "instlevel6         0.047908\n",
       "instlevel7         0.022843\n",
       "instlevel8        -0.016381\n",
       "instlevel9        -0.025161\n",
       "bedrooms          -0.017167\n",
       "overcrowding       0.004433\n",
       "tipovivi1          0.061768\n",
       "tipovivi2         -0.003865\n",
       "tipovivi3         -0.052190\n",
       "tipovivi4         -0.033628\n",
       "tipovivi5         -0.015889\n",
       "computer          -0.044198\n",
       "television        -0.026891\n",
       "mobilephone       -0.003972\n",
       "qmobilephone      -0.021118\n",
       "lugar1            -0.256175\n",
       "lugar2             0.300935\n",
       "lugar3            -0.053820\n",
       "lugar4            -0.106042\n",
       "lugar5            -0.113613\n",
       "lugar6             0.419312\n",
       "area1             -0.248528\n",
       "area2              0.248528\n",
       "age               -0.010989\n",
       "SQBescolari       -0.025070\n",
       "SQBage            -0.013846\n",
       "SQBhogar_total     0.000947\n",
       "SQBedjefe         -0.035938\n",
       "SQBhogar_nin      -0.009007\n",
       "SQBovercrowding   -0.007399\n",
       "SQBdependency     -0.027037\n",
       "SQBmeaned         -0.032498\n",
       "agesq             -0.013846\n",
       "Target             0.002270\n",
       "inst              -0.017433\n",
       "lugar              0.235665\n",
       "area               0.248528\n",
       "Name: coopele, dtype: float64"
      ]
     },
     "execution_count": 32,
     "metadata": {},
     "output_type": "execute_result"
    }
   ],
   "source": [
    "corr_matrix['coopele']"
   ]
  },
  {
   "cell_type": "code",
   "execution_count": 6,
   "metadata": {},
   "outputs": [
    {
     "data": {
      "text/plain": [
       "['tamhog',\n",
       " 'hhsize',\n",
       " 'coopele',\n",
       " 'female',\n",
       " 'hogar_total',\n",
       " 'area2',\n",
       " 'SQBage',\n",
       " 'SQBhogar_total',\n",
       " 'agesq']"
      ]
     },
     "execution_count": 6,
     "metadata": {},
     "output_type": "execute_result"
    }
   ],
   "source": [
    "to_drop"
   ]
  },
  {
   "cell_type": "code",
   "execution_count": 8,
   "metadata": {},
   "outputs": [
    {
     "data": {
      "text/plain": [
       "0    1\n",
       "1    1\n",
       "2    1\n",
       "3    1\n",
       "4    1\n",
       "Name: inst, dtype: int64"
      ]
     },
     "execution_count": 8,
     "metadata": {},
     "output_type": "execute_result"
    }
   ],
   "source": [
    "data['inst'] = data[[c for c in data if c.startswith('instl')]].sum(axis = 1)\n",
    "data['inst'].head()"
   ]
  },
  {
   "cell_type": "code",
   "execution_count": 9,
   "metadata": {},
   "outputs": [
    {
     "data": {
      "text/plain": [
       "count    9557.000000\n",
       "mean        0.999686\n",
       "std         0.017716\n",
       "min         0.000000\n",
       "25%         1.000000\n",
       "50%         1.000000\n",
       "75%         1.000000\n",
       "max         1.000000\n",
       "Name: inst, dtype: float64"
      ]
     },
     "execution_count": 9,
     "metadata": {},
     "output_type": "execute_result"
    }
   ],
   "source": [
    "data['inst'].describe()"
   ]
  },
  {
   "cell_type": "code",
   "execution_count": 12,
   "metadata": {},
   "outputs": [
    {
     "data": {
      "text/plain": [
       "count    9557.000000\n",
       "mean        2.877577\n",
       "std         2.244121\n",
       "min         0.000000\n",
       "25%         1.000000\n",
       "50%         2.000000\n",
       "75%         4.000000\n",
       "max         8.000000\n",
       "Name: inst, dtype: float64"
      ]
     },
     "execution_count": 12,
     "metadata": {},
     "output_type": "execute_result"
    }
   ],
   "source": [
    "data['inst'] = np.argmax(np.array(data[[c for c in data if c.startswith('instl')]]), axis = 1)\n",
    "data['inst'].describe()"
   ]
  },
  {
   "cell_type": "code",
   "execution_count": 13,
   "metadata": {},
   "outputs": [
    {
     "data": {
      "text/plain": [
       "count    9557.000000\n",
       "mean        1.244533\n",
       "std         1.748453\n",
       "min         0.000000\n",
       "25%         0.000000\n",
       "50%         0.000000\n",
       "75%         3.000000\n",
       "max         5.000000\n",
       "Name: lugar, dtype: float64"
      ]
     },
     "execution_count": 13,
     "metadata": {},
     "output_type": "execute_result"
    }
   ],
   "source": [
    "data['lugar'] = np.argmax(np.array(data[[c for c in data if c.startswith('lugar')]]), axis = 1)\n",
    "data['lugar'].describe()"
   ]
  },
  {
   "cell_type": "code",
   "execution_count": 14,
   "metadata": {},
   "outputs": [],
   "source": [
    "import seaborn as sns"
   ]
  },
  {
   "cell_type": "code",
   "execution_count": null,
   "metadata": {},
   "outputs": [],
   "source": []
  },
  {
   "cell_type": "code",
   "execution_count": 15,
   "metadata": {},
   "outputs": [
    {
     "data": {
      "text/plain": [
       "lugar  Target\n",
       "0      4         0.698540\n",
       "       2         0.133903\n",
       "       3         0.109687\n",
       "       1         0.057870\n",
       "1      4         0.599323\n",
       "       2         0.181716\n",
       "       3         0.132054\n",
       "       1         0.086907\n",
       "2      4         0.458054\n",
       "       2         0.214765\n",
       "       3         0.187919\n",
       "       1         0.139262\n",
       "3      4         0.513274\n",
       "       2         0.221239\n",
       "       3         0.141593\n",
       "       1         0.123894\n",
       "4      4         0.488294\n",
       "       2         0.237458\n",
       "       3         0.159420\n",
       "       1         0.114827\n",
       "5      4         0.551232\n",
       "       2         0.217899\n",
       "       3         0.141375\n",
       "       1         0.089494\n",
       "Name: Target, dtype: float64"
      ]
     },
     "execution_count": 15,
     "metadata": {},
     "output_type": "execute_result"
    }
   ],
   "source": [
    "data.groupby('lugar')['Target'].value_counts(normalize = True)"
   ]
  },
  {
   "cell_type": "code",
   "execution_count": 16,
   "metadata": {},
   "outputs": [
    {
     "data": {
      "text/plain": [
       "area  Target\n",
       "0     4         0.658369\n",
       "      2         0.154049\n",
       "      3         0.114365\n",
       "      1         0.073217\n",
       "1     4         0.549853\n",
       "      2         0.199780\n",
       "      3         0.156891\n",
       "      1         0.093475\n",
       "Name: Target, dtype: float64"
      ]
     },
     "execution_count": 16,
     "metadata": {},
     "output_type": "execute_result"
    }
   ],
   "source": [
    "data['area'] = np.argmax(np.array(data[['area1', 'area2']]), axis = 1)\n",
    "data.groupby('area')['Target'].value_counts(normalize = True)"
   ]
  },
  {
   "cell_type": "code",
   "execution_count": 17,
   "metadata": {},
   "outputs": [
    {
     "data": {
      "text/plain": [
       "area  Target\n",
       "0     4         4496\n",
       "      2         1052\n",
       "      3          781\n",
       "      1          500\n",
       "1     4         1500\n",
       "      2          545\n",
       "      3          428\n",
       "      1          255\n",
       "Name: Target, dtype: int64"
      ]
     },
     "execution_count": 17,
     "metadata": {},
     "output_type": "execute_result"
    }
   ],
   "source": [
    "data.groupby('area')['Target'].value_counts(normalize = False)"
   ]
  },
  {
   "cell_type": "code",
   "execution_count": 19,
   "metadata": {},
   "outputs": [
    {
     "data": {
      "text/plain": [
       "True"
      ]
     },
     "execution_count": 19,
     "metadata": {},
     "output_type": "execute_result"
    }
   ],
   "source": [
    "np.all(data['r4h3'] == (data['r4h2'] + data['r4h1']))"
   ]
  },
  {
   "cell_type": "code",
   "execution_count": 20,
   "metadata": {},
   "outputs": [
    {
     "data": {
      "text/plain": [
       "True"
      ]
     },
     "execution_count": 20,
     "metadata": {},
     "output_type": "execute_result"
    }
   ],
   "source": [
    "np.all(data['r4m3'] == (data['r4m2'] + data['r4m1']))"
   ]
  },
  {
   "cell_type": "code",
   "execution_count": 21,
   "metadata": {},
   "outputs": [
    {
     "data": {
      "text/plain": [
       "True"
      ]
     },
     "execution_count": 21,
     "metadata": {},
     "output_type": "execute_result"
    }
   ],
   "source": [
    "np.all(data['r4t3'] == (data['r4t2'] + data['r4t1']))"
   ]
  },
  {
   "cell_type": "code",
   "execution_count": 22,
   "metadata": {},
   "outputs": [
    {
     "data": {
      "text/plain": [
       "1.0"
      ]
     },
     "execution_count": 22,
     "metadata": {},
     "output_type": "execute_result"
    }
   ],
   "source": [
    "data['hhsize'].corr(data['tamhog'])"
   ]
  },
  {
   "cell_type": "code",
   "execution_count": 23,
   "metadata": {},
   "outputs": [
    {
     "data": {
      "text/plain": [
       "0.9436399930083661"
      ]
     },
     "execution_count": 23,
     "metadata": {},
     "output_type": "execute_result"
    }
   ],
   "source": [
    "data['hhsize'].corr(data['tamviv'])"
   ]
  },
  {
   "cell_type": "code",
   "execution_count": 24,
   "metadata": {},
   "outputs": [
    {
     "data": {
      "text/plain": [
       "0.9981074966165117"
      ]
     },
     "execution_count": 24,
     "metadata": {},
     "output_type": "execute_result"
    }
   ],
   "source": [
    "data['hhsize'].corr(data['r4t3'])"
   ]
  },
  {
   "cell_type": "code",
   "execution_count": null,
   "metadata": {},
   "outputs": [],
   "source": []
  }
 ],
 "metadata": {
  "kernelspec": {
   "display_name": "Python 3",
   "language": "python",
   "name": "python3"
  },
  "language_info": {
   "codemirror_mode": {
    "name": "ipython",
    "version": 3
   },
   "file_extension": ".py",
   "mimetype": "text/x-python",
   "name": "python",
   "nbconvert_exporter": "python",
   "pygments_lexer": "ipython3",
   "version": "3.6.4"
  }
 },
 "nbformat": 4,
 "nbformat_minor": 2
}

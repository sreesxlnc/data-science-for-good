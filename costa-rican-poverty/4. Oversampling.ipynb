{
  "cells": [
    {
      "metadata": {
        "trusted": true,
        "collapsed": true,
        "_uuid": "04a61789fb81d157e30fde3dfd9c96d3cc008de0"
      },
      "cell_type": "code",
      "source": "import pandas as pd\nimport numpy as np\n\nimport lightgbm as lgb\n\n# Evaluation of the model\nfrom sklearn.model_selection import KFold, train_test_split, StratifiedKFold\nfrom sklearn.metrics import roc_auc_score, f1_score",
      "execution_count": 26,
      "outputs": []
    },
    {
      "metadata": {
        "_cell_guid": "79c7e3d0-c299-4dcb-8224-4455121ee9b0",
        "_uuid": "d629ff2d2480ee46fbb7e2d37f6b5fab8052498a",
        "trusted": true
      },
      "cell_type": "code",
      "source": "fm = pd.read_csv('../input/costa-rican-poverty-derived-data/ft_2000_important.csv').replace({-np.inf: np.nan, np.inf:np.nan})\nfm.shape",
      "execution_count": 2,
      "outputs": [
        {
          "output_type": "stream",
          "text": "/opt/conda/lib/python3.6/site-packages/IPython/core/interactiveshell.py:2698: DtypeWarning: Columns (572) have mixed types. Specify dtype option on import or set low_memory=False.\n  interactivity=interactivity, compiler=compiler, result=result)\n",
          "name": "stderr"
        },
        {
          "output_type": "execute_result",
          "execution_count": 2,
          "data": {
            "text/plain": "(10307, 2016)"
          },
          "metadata": {}
        }
      ]
    },
    {
      "metadata": {
        "trusted": true,
        "_uuid": "79408661493ed4d4cb459e614141d29055556fba"
      },
      "cell_type": "code",
      "source": "test_base = pd.read_csv('../input/costa-rican-household-poverty-prediction/test.csv')[['Id', 'idhogar']]\ntest_base.shape",
      "execution_count": 14,
      "outputs": [
        {
          "output_type": "execute_result",
          "execution_count": 14,
          "data": {
            "text/plain": "(23856, 2)"
          },
          "metadata": {}
        }
      ]
    },
    {
      "metadata": {
        "trusted": true,
        "collapsed": true,
        "_uuid": "891ae90303c5361976cf739b2b86b66ee946e1c6"
      },
      "cell_type": "code",
      "source": "from imblearn.over_sampling import SMOTE, ADASYN",
      "execution_count": 3,
      "outputs": []
    },
    {
      "metadata": {
        "trusted": true,
        "collapsed": true,
        "_uuid": "02fe42dd91d04dea0a9cb8c84e5474675faccfa3"
      },
      "cell_type": "code",
      "source": "smote = SMOTE()\nada = ADASYN()",
      "execution_count": 4,
      "outputs": []
    },
    {
      "metadata": {
        "trusted": true,
        "_uuid": "5eeade893dda0ec78e1964db2052ad6a1878c56e",
        "collapsed": true
      },
      "cell_type": "code",
      "source": "train = fm[fm['Target'].notnull()].copy()\ntest = fm[fm['Target'].isnull()].copy()\n\ntrain_labels = np.array(train.pop('Target')).reshape((-1,))\ntrain_ids = train.pop('idhogar')\ntest = test.drop(columns = 'Target')\ntest_ids = test.pop('idhogar')\n\nfor col in train:\n    if train[col].dtype == 'object':\n        train[col] = train[col].astype(np.float32)\n        test[col] = test[col].astype(np.float32)\n        \nfeature_names = list(train.columns)\ntrain = np.array(train, dtype = 'float')\ntest = np.array(test, dtype = 'float')",
      "execution_count": 16,
      "outputs": []
    },
    {
      "metadata": {
        "trusted": true,
        "_uuid": "7e4629c4fa0572225d7e2ce83b5b96f5b3526208"
      },
      "cell_type": "code",
      "source": "from sklearn.preprocessing import Imputer\n\nimputer = Imputer(strategy = 'median')\ntrain = imputer.fit_transform(train.astype(np.float32))\ntest = imputer.transform(test.astype(np.float32))",
      "execution_count": 17,
      "outputs": [
        {
          "output_type": "stream",
          "text": "/opt/conda/lib/python3.6/site-packages/sklearn/utils/deprecation.py:58: DeprecationWarning: Class Imputer is deprecated; Imputer was deprecated in version 0.20 and will be removed in 0.22. Import impute.SimpleImputer from sklearn instead.\n  warnings.warn(msg, category=DeprecationWarning)\n",
          "name": "stderr"
        }
      ]
    },
    {
      "metadata": {
        "trusted": true,
        "collapsed": true,
        "_uuid": "994c59e567b6d93508cfdeb86885e22456b6ef85"
      },
      "cell_type": "code",
      "source": "train = np.nan_to_num(train)\ntest = np.nan_to_num(test)",
      "execution_count": 18,
      "outputs": []
    },
    {
      "metadata": {
        "trusted": true,
        "collapsed": true,
        "_uuid": "4ef8c2fae343b4356a1fbce4f92a3c6b0e22daac"
      },
      "cell_type": "code",
      "source": "train_labels = np.array(train_labels, dtype = 'float')",
      "execution_count": 19,
      "outputs": []
    },
    {
      "metadata": {
        "trusted": true,
        "_uuid": "70341732d7d25c5056bb717d6edc0427aebbaddd"
      },
      "cell_type": "code",
      "source": "smote.fit(train, train_labels)",
      "execution_count": 20,
      "outputs": [
        {
          "output_type": "stream",
          "text": "/opt/conda/lib/python3.6/site-packages/numpy/core/_methods.py:32: RuntimeWarning: overflow encountered in reduce\n  return umr_sum(a, axis, dtype, out, keepdims)\n",
          "name": "stderr"
        },
        {
          "output_type": "execute_result",
          "execution_count": 20,
          "data": {
            "text/plain": "SMOTE(k_neighbors=5, kind='regular', m_neighbors=10, n_jobs=1, out_step=0.5,\n   random_state=None, ratio=None, sampling_strategy='auto',\n   svm_estimator=None)"
          },
          "metadata": {}
        }
      ]
    },
    {
      "metadata": {
        "trusted": true,
        "_uuid": "66ce4345e7c02d84f1ee3a4d951582521c53d8a5"
      },
      "cell_type": "code",
      "source": "train_over, train_labels_over = smote.fit_sample(train, train_labels)",
      "execution_count": 21,
      "outputs": [
        {
          "output_type": "stream",
          "text": "/opt/conda/lib/python3.6/site-packages/numpy/core/_methods.py:32: RuntimeWarning: overflow encountered in reduce\n  return umr_sum(a, axis, dtype, out, keepdims)\n/opt/conda/lib/python3.6/site-packages/numpy/core/_methods.py:32: RuntimeWarning: overflow encountered in reduce\n  return umr_sum(a, axis, dtype, out, keepdims)\n/opt/conda/lib/python3.6/site-packages/numpy/core/_methods.py:32: RuntimeWarning: overflow encountered in reduce\n  return umr_sum(a, axis, dtype, out, keepdims)\n/opt/conda/lib/python3.6/site-packages/numpy/core/_methods.py:32: RuntimeWarning: overflow encountered in reduce\n  return umr_sum(a, axis, dtype, out, keepdims)\n/opt/conda/lib/python3.6/site-packages/numpy/core/_methods.py:32: RuntimeWarning: overflow encountered in reduce\n  return umr_sum(a, axis, dtype, out, keepdims)\n/opt/conda/lib/python3.6/site-packages/numpy/core/_methods.py:32: RuntimeWarning: overflow encountered in reduce\n  return umr_sum(a, axis, dtype, out, keepdims)\n/opt/conda/lib/python3.6/site-packages/numpy/core/_methods.py:32: RuntimeWarning: overflow encountered in reduce\n  return umr_sum(a, axis, dtype, out, keepdims)\n/opt/conda/lib/python3.6/site-packages/numpy/core/_methods.py:32: RuntimeWarning: overflow encountered in reduce\n  return umr_sum(a, axis, dtype, out, keepdims)\n",
          "name": "stderr"
        }
      ]
    },
    {
      "metadata": {
        "trusted": true,
        "collapsed": true,
        "_uuid": "647126ed23200c8b57a67b5fbfe08ef790dc757f"
      },
      "cell_type": "code",
      "source": "def macro_f1_score(labels, predictions):\n    # Reshape the predictions as needed\n    predictions = predictions.reshape(len(np.unique(labels)), -1 ).argmax(axis = 0)\n    \n    metric_value = f1_score(labels, predictions, average = 'macro')\n    \n    # Return is name, value, is_higher_better\n    return 'macro_f1', metric_value, True\n\ndef model_gbm(hyperparameters, features, labels, \n              test_features, test_ids, submission_base, \n              nfolds = 5, return_preds = False):\n    \"\"\"Model using the GBM and cross validation.\n       Trains with early stopping on each fold.\n       Hyperparameters probably need to be tuned.\"\"\"\n    \n    feature_names = list(features.columns)\n    \n    # Model with hyperparameters selected from previous work\n#     model = lgb.LGBMClassifier(boosting_type = 'gbdt', n_estimators = 10000, max_depth = -1,\n#                                learning_rate = 0.025, metric = 'None', min_child_samples = 30,\n#                                reg_alpha = 0.35, reg_lambda = 0.6, num_leaves = 15, \n#                                colsample_bytree = 0.85, objective = 'multiclass', \n#                                class_weight = 'balanced', \n#                                n_jobs = -1)\n\n    model = lgb.LGBMClassifier(**hyperparameters, \n                               objective = 'multiclass', n_jobs = -1, \n                               n_estimators = 10000, metric = 'None')\n    \n    # Using stratified kfold cross validation\n    strkfold = StratifiedKFold(n_splits = nfolds, shuffle = True)\n    predictions = pd.DataFrame()\n    importances = np.zeros(len(feature_names))\n    \n    # Convert to arrays for indexing\n    features = np.array(features)\n    test_features = np.array(test_features)\n    labels = np.array(labels).reshape((-1 ))\n    \n    valid_scores = []\n    \n    # Iterate through the folds\n    for i, (train_indices, valid_indices) in enumerate(strkfold.split(features, labels)):\n        # Dataframe for \n        fold_predictions = pd.DataFrame()\n        \n        # Training and validation data\n        X_train = features[train_indices]\n        X_valid = features[valid_indices]\n        y_train = labels[train_indices]\n        y_valid = labels[valid_indices]\n        \n        # Train with early stopping\n        model.fit(X_train, y_train, early_stopping_rounds = 100, \n                  eval_metric = macro_f1_score,\n                  eval_set = [(X_train, y_train), (X_valid, y_valid)],\n                  eval_names = ['train', 'valid'],\n                  verbose = 200)\n        \n        # Record the validation fold score\n        valid_scores.append(model.best_score_['valid']['macro_f1'])\n        \n        # Make predictions from the fold\n        fold_probabilitites = model.predict_proba(test_features)\n        \n        # Record each prediction for each class as a column\n        for j in range(4):\n            fold_predictions[(j + 1)] = fold_probabilitites[:, j]\n            \n        fold_predictions['idhogar'] = test_ids\n        fold_predictions['fold'] = (i+1)\n        predictions = predictions.append(fold_predictions)\n        \n        importances += model.feature_importances_ / nfolds   \n        \n        display(f'Fold {i + 1}, Validation Score: {round(valid_scores[i], 5)}, Estimators Trained: {model.best_iteration_}')\n\n    feature_importances = pd.DataFrame({'feature': feature_names,\n                                        'importance': importances})\n    valid_scores = np.array(valid_scores)\n    display(f'{nfolds} cross validation score: {round(valid_scores.mean(), 5)} with std: {round(valid_scores.std(), 5)}.')\n    \n    # If we want to examine predictions don't average over folds\n    if return_preds:\n        predictions['Target'] = predictions[[1, 2, 3, 4]].idxmax(axis = 1)\n        predictions['confidence'] = predictions[[1, 2, 3, 4]].max(axis = 1)\n        return predictions, feature_importances\n    \n    # Average the predictions over folds\n    predictions = predictions.groupby('idhogar', as_index = False).mean()\n    \n    # Find the class and associated probability\n    predictions['Target'] = predictions[[1, 2, 3, 4]].idxmax(axis = 1)\n    predictions['confidence'] = predictions[[1, 2, 3, 4]].max(axis = 1)\n    predictions = predictions.drop(columns = ['fold'])\n    \n    # Merge with the base to have one prediction for each individual\n    submission = submission_base.merge(predictions[['idhogar', 'Target']], on = 'idhogar', how = 'left').drop(columns = ['idhogar'])\n        \n    submission['Target'] = submission['Target'].fillna(4).astype(np.int8)\n    \n    # return the submission and feature importances\n    return submission, feature_importances, valid_scores",
      "execution_count": 27,
      "outputs": []
    },
    {
      "metadata": {
        "trusted": true,
        "collapsed": true,
        "_uuid": "52a465bd621b25010d3edd5ca3cf1f6438491d79"
      },
      "cell_type": "code",
      "source": "hyp_OPTaaS = { 'boosting_type': 'dart',\n              'colsample_bytree': 0.9843467236959204,\n              'learning_rate': 0.11598629586769524,\n              'min_child_samples': 44,\n              'num_leaves': 49,\n              'reg_alpha': 0.35397370408131534,\n              'reg_lambda': 0.5904910774606467,\n              'subsample': 0.6299872254632797,\n              'subsample_for_bin': 60611}",
      "execution_count": 28,
      "outputs": []
    },
    {
      "metadata": {
        "trusted": true,
        "collapsed": true,
        "_uuid": "3b5c3884001669b4f82d1d56b89b4965330d60ec"
      },
      "cell_type": "code",
      "source": "train_over = pd.DataFrame(train_over, columns = feature_names)",
      "execution_count": 29,
      "outputs": []
    },
    {
      "metadata": {
        "trusted": true,
        "_uuid": "0a1bd04e176b5775b9ab7b5c6bb15f2c71d2567c"
      },
      "cell_type": "code",
      "source": "submission, feature_importances, valid_scores = model_gbm(hyp_OPTaaS, train_over, train_labels_over,\n                                                          test, test_ids, test_base)",
      "execution_count": null,
      "outputs": []
    },
    {
      "metadata": {
        "trusted": true,
        "_uuid": "88c6bf573d69ca25a0a529fee6811994a816597e",
        "collapsed": true
      },
      "cell_type": "code",
      "source": "train_labels_over.shape",
      "execution_count": null,
      "outputs": []
    },
    {
      "metadata": {
        "trusted": true,
        "_uuid": "255589c91de9eaf61503595a8d2bea6306ee3f7f",
        "collapsed": true
      },
      "cell_type": "code",
      "source": "train_over.shape",
      "execution_count": null,
      "outputs": []
    },
    {
      "metadata": {
        "trusted": true,
        "collapsed": true,
        "_uuid": "2b2522e1d836e537bae199730b4894fdde3d2b6f"
      },
      "cell_type": "code",
      "source": "",
      "execution_count": null,
      "outputs": []
    },
    {
      "metadata": {
        "trusted": true,
        "collapsed": true,
        "_uuid": "774d72f90e0dd7e5ec261fff174011b55ebe3cfb"
      },
      "cell_type": "code",
      "source": "",
      "execution_count": null,
      "outputs": []
    }
  ],
  "metadata": {
    "kernelspec": {
      "display_name": "Python 3",
      "language": "python",
      "name": "python3"
    },
    "language_info": {
      "name": "python",
      "version": "3.6.6",
      "mimetype": "text/x-python",
      "codemirror_mode": {
        "name": "ipython",
        "version": 3
      },
      "pygments_lexer": "ipython3",
      "nbconvert_exporter": "python",
      "file_extension": ".py"
    }
  },
  "nbformat": 4,
  "nbformat_minor": 1
}